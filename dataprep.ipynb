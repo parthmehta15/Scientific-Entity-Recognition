{
  "nbformat": 4,
  "nbformat_minor": 0,
  "metadata": {
    "colab": {
      "provenance": []
    },
    "kernelspec": {
      "name": "python3",
      "display_name": "Python 3"
    },
    "language_info": {
      "name": "python"
    }
  },
  "cells": [
    {
      "cell_type": "code",
      "source": [
        "!pip install pymupdf"
      ],
      "metadata": {
        "id": "pmWUDuaRePxf"
      },
      "execution_count": null,
      "outputs": []
    },
    {
      "cell_type": "code",
      "source": [
        "import fitz\n",
        "text = []\n",
        "\n",
        "doc = fitz.open(\"/content/1706.03762.pdf\")  # open document\n",
        "for page in doc:  # iterate the document pages\n",
        "    text.append(page.get_text(\"blocks\") ) # get plain text (is in UTF-8)\n",
        "\n",
        "\n"
      ],
      "metadata": {
        "id": "LbDh0RLzXLPg"
      },
      "execution_count": 18,
      "outputs": []
    },
    {
      "cell_type": "code",
      "source": [
        "####paragraph wise\n",
        "combined_para_wise = []\n",
        "for page in text:\n",
        "  temp = [para[4].replace(\"\\n\", \" \") for para in page]\n",
        "  combined_para_wise+=temp"
      ],
      "metadata": {
        "id": "CVNwDnX92d4C"
      },
      "execution_count": 19,
      "outputs": []
    },
    {
      "cell_type": "code",
      "source": [
        "combined_para_wise"
      ],
      "metadata": {
        "id": "4n679jHI3vX3"
      },
      "execution_count": null,
      "outputs": []
    },
    {
      "cell_type": "code",
      "source": [
        "len(text[0])"
      ],
      "metadata": {
        "colab": {
          "base_uri": "https://localhost:8080/"
        },
        "id": "LabMjIzSe8Ex",
        "outputId": "1b9cdd4e-af21-405d-cca7-7a55b3c33e1d"
      },
      "execution_count": 5,
      "outputs": [
        {
          "output_type": "execute_result",
          "data": {
            "text/plain": [
              "16"
            ]
          },
          "metadata": {},
          "execution_count": 5
        }
      ]
    },
    {
      "cell_type": "code",
      "source": [
        "!python -m spacy download en_core_web_sm"
      ],
      "metadata": {
        "id": "uGZLhbhGiL7I"
      },
      "execution_count": null,
      "outputs": []
    },
    {
      "cell_type": "code",
      "source": [
        "# Construction 1\n",
        "import spacy\n",
        "from spacy.tokenizer import Tokenizer\n",
        "from spacy.lang.en import English\n",
        "nlp = spacy.load(\"en_core_web_sm\")\n",
        "# nlp.add_pipe('sentencizer')\n",
        "# Create a blank Tokenizer with just the English vocab\n",
        "# tokenizer = Tokenizer(nlp.vocab)"
      ],
      "metadata": {
        "id": "V8OhnynEgybH"
      },
      "execution_count": 22,
      "outputs": []
    },
    {
      "cell_type": "code",
      "source": [
        "tokens_list = []\n",
        "for sent in combined_para_wise:\n",
        "    doc = nlp(sent)\n",
        "    sent_list = []\n",
        "    for token in doc:\n",
        "      sent_list.append(token.text)\n",
        "    # tokens = tokenizer(sent)\n",
        "    temp_sent = \" \".join(sent_list)\n",
        "    if temp_sent[0] == \"[\":\n",
        "      continue\n",
        "    if len(temp_sent)>60:\n",
        "      tokens_list.append(temp_sent)"
      ],
      "metadata": {
        "id": "IEUVUIRvhFUW"
      },
      "execution_count": 29,
      "outputs": []
    },
    {
      "cell_type": "code",
      "source": [
        "tokens_list"
      ],
      "metadata": {
        "id": "CWZEZtsd6rtE"
      },
      "execution_count": null,
      "outputs": []
    },
    {
      "cell_type": "code",
      "source": [
        "file = open('prepared_dataset.txt', 'w')\n",
        "file.write('\\n'.join(tokens_list))\n",
        "file.close()"
      ],
      "metadata": {
        "id": "eamnXc6IhMOL"
      },
      "execution_count": 32,
      "outputs": []
    }
  ]
}